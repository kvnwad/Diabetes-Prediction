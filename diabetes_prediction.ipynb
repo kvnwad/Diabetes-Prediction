{
 "cells": [
  {
   "cell_type": "markdown",
   "id": "a8ee725a-8d74-4c9f-ab3a-ad221e7cac7d",
   "metadata": {},
   "source": [
    "## Diabetes Prediction\n",
    "\n",
    "In this file we'll take a look at a diabetes data set and see if we can make a good classification model to see if indivuals have diabetes, is pre- diabetic, or neither. We will use k-nearest neighbors (KNN) classification algorithm."
   ]
  },
  {
   "cell_type": "code",
   "execution_count": 11,
   "id": "962efcf6-c012-47d1-945f-d369c16f2639",
   "metadata": {},
   "outputs": [],
   "source": [
    "library(tidyverse)\n",
    "library(janitor)\n",
    "library(tidymodels)\n",
    "library(kknn)"
   ]
  },
  {
   "cell_type": "code",
   "execution_count": 12,
   "id": "2b5d4cc0-1cf1-40d5-8e7a-1aebc6911950",
   "metadata": {},
   "outputs": [
    {
     "name": "stderr",
     "output_type": "stream",
     "text": [
      "\u001b[1mRows: \u001b[22m\u001b[34m253680\u001b[39m \u001b[1mColumns: \u001b[22m\u001b[34m22\u001b[39m\n",
      "\u001b[36m──\u001b[39m \u001b[1mColumn specification\u001b[22m \u001b[36m────────────────────────────────────────────────────────\u001b[39m\n",
      "\u001b[1mDelimiter:\u001b[22m \",\"\n",
      "\u001b[32mdbl\u001b[39m (22): Diabetes_012, HighBP, HighChol, CholCheck, BMI, Smoker, Stroke, He...\n",
      "\n",
      "\u001b[36mℹ\u001b[39m Use `spec()` to retrieve the full column specification for this data.\n",
      "\u001b[36mℹ\u001b[39m Specify the column types or set `show_col_types = FALSE` to quiet this message.\n"
     ]
    },
    {
     "name": "stdout",
     "output_type": "stream",
     "text": [
      "Rows: 253,680\n",
      "Columns: 22\n",
      "$ Diabetes_012         \u001b[3m\u001b[90m<dbl>\u001b[39m\u001b[23m 0, 0, 0, 0, 0, 0, 0, 0, 2, 0, 2, 0, 0, 2, 0, 0, 0…\n",
      "$ HighBP               \u001b[3m\u001b[90m<dbl>\u001b[39m\u001b[23m 1, 0, 1, 1, 1, 1, 1, 1, 1, 0, 0, 1, 0, 1, 0, 1, 1…\n",
      "$ HighChol             \u001b[3m\u001b[90m<dbl>\u001b[39m\u001b[23m 1, 0, 1, 0, 1, 1, 0, 1, 1, 0, 0, 1, 0, 1, 1, 0, 1…\n",
      "$ CholCheck            \u001b[3m\u001b[90m<dbl>\u001b[39m\u001b[23m 1, 0, 1, 1, 1, 1, 1, 1, 1, 1, 1, 1, 1, 1, 1, 1, 1…\n",
      "$ BMI                  \u001b[3m\u001b[90m<dbl>\u001b[39m\u001b[23m 40, 25, 28, 27, 24, 25, 30, 25, 30, 24, 25, 34, 2…\n",
      "$ Smoker               \u001b[3m\u001b[90m<dbl>\u001b[39m\u001b[23m 1, 1, 0, 0, 0, 1, 1, 1, 1, 0, 1, 1, 1, 0, 1, 0, 0…\n",
      "$ Stroke               \u001b[3m\u001b[90m<dbl>\u001b[39m\u001b[23m 0, 0, 0, 0, 0, 0, 0, 0, 0, 0, 0, 0, 0, 0, 1, 0, 0…\n",
      "$ HeartDiseaseorAttack \u001b[3m\u001b[90m<dbl>\u001b[39m\u001b[23m 0, 0, 0, 0, 0, 0, 0, 0, 1, 0, 0, 0, 0, 0, 0, 0, 0…\n",
      "$ PhysActivity         \u001b[3m\u001b[90m<dbl>\u001b[39m\u001b[23m 0, 1, 0, 1, 1, 1, 0, 1, 0, 0, 1, 0, 0, 0, 1, 1, 1…\n",
      "$ Fruits               \u001b[3m\u001b[90m<dbl>\u001b[39m\u001b[23m 0, 0, 1, 1, 1, 1, 0, 0, 1, 0, 1, 1, 0, 0, 0, 0, 1…\n",
      "$ Veggies              \u001b[3m\u001b[90m<dbl>\u001b[39m\u001b[23m 1, 0, 0, 1, 1, 1, 0, 1, 1, 1, 1, 1, 1, 1, 1, 0, 1…\n",
      "$ HvyAlcoholConsump    \u001b[3m\u001b[90m<dbl>\u001b[39m\u001b[23m 0, 0, 0, 0, 0, 0, 0, 0, 0, 0, 0, 0, 0, 0, 0, 0, 0…\n",
      "$ AnyHealthcare        \u001b[3m\u001b[90m<dbl>\u001b[39m\u001b[23m 1, 0, 1, 1, 1, 1, 1, 1, 1, 1, 1, 1, 1, 1, 1, 1, 1…\n",
      "$ NoDocbcCost          \u001b[3m\u001b[90m<dbl>\u001b[39m\u001b[23m 0, 1, 1, 0, 0, 0, 0, 0, 0, 0, 0, 0, 0, 0, 1, 0, 0…\n",
      "$ GenHlth              \u001b[3m\u001b[90m<dbl>\u001b[39m\u001b[23m 5, 3, 5, 2, 2, 2, 3, 3, 5, 2, 3, 3, 3, 4, 4, 2, 3…\n",
      "$ MentHlth             \u001b[3m\u001b[90m<dbl>\u001b[39m\u001b[23m 18, 0, 30, 0, 3, 0, 0, 0, 30, 0, 0, 0, 0, 0, 30, …\n",
      "$ PhysHlth             \u001b[3m\u001b[90m<dbl>\u001b[39m\u001b[23m 15, 0, 30, 0, 0, 2, 14, 0, 30, 0, 0, 30, 15, 0, 2…\n",
      "$ DiffWalk             \u001b[3m\u001b[90m<dbl>\u001b[39m\u001b[23m 1, 0, 1, 0, 0, 0, 0, 1, 1, 0, 0, 1, 0, 1, 0, 0, 0…\n",
      "$ Sex                  \u001b[3m\u001b[90m<dbl>\u001b[39m\u001b[23m 0, 0, 0, 0, 0, 1, 0, 0, 0, 1, 1, 0, 0, 0, 0, 0, 0…\n",
      "$ Age                  \u001b[3m\u001b[90m<dbl>\u001b[39m\u001b[23m 9, 7, 9, 11, 11, 10, 9, 11, 9, 8, 13, 10, 7, 11, …\n",
      "$ Education            \u001b[3m\u001b[90m<dbl>\u001b[39m\u001b[23m 4, 6, 4, 3, 5, 6, 6, 4, 5, 4, 6, 5, 5, 4, 6, 6, 4…\n",
      "$ Income               \u001b[3m\u001b[90m<dbl>\u001b[39m\u001b[23m 3, 1, 8, 6, 4, 8, 7, 4, 1, 3, 8, 1, 7, 6, 2, 8, 3…\n"
     ]
    }
   ],
   "source": [
    "data <- read_csv(\"diabetes_012_health_indicators_BRFSS2015.csv\")\n",
    "glimpse(data)"
   ]
  },
  {
   "cell_type": "markdown",
   "id": "97ecba01-c751-43e0-9aa9-bd0c814ad0fd",
   "metadata": {},
   "source": [
    "First we will clean the column names:"
   ]
  },
  {
   "cell_type": "code",
   "execution_count": 106,
   "id": "e89924d3-db1a-4710-9e5e-dd5182af861c",
   "metadata": {},
   "outputs": [
    {
     "name": "stdout",
     "output_type": "stream",
     "text": [
      "Rows: 10,000\n",
      "Columns: 22\n",
      "$ diabetes_012           \u001b[3m\u001b[90m<fct>\u001b[39m\u001b[23m 0, 0, 0, 0, 0, 0, 0, 2, 0, 0, 0, 0, 0, 2, 0, 0,…\n",
      "$ high_bp                \u001b[3m\u001b[90m<dbl>\u001b[39m\u001b[23m 1, 0, 0, 0, 0, 0, 0, 1, 1, 1, 0, 0, 1, 1, 0, 0,…\n",
      "$ high_chol              \u001b[3m\u001b[90m<dbl>\u001b[39m\u001b[23m 0, 0, 0, 0, 1, 0, 1, 0, 1, 0, 1, 1, 1, 1, 0, 0,…\n",
      "$ chol_check             \u001b[3m\u001b[90m<dbl>\u001b[39m\u001b[23m 1, 1, 1, 1, 1, 1, 1, 1, 1, 1, 1, 1, 1, 1, 1, 1,…\n",
      "$ bmi                    \u001b[3m\u001b[90m<dbl>\u001b[39m\u001b[23m 30, 33, 27, 21, 41, 20, 26, 32, 20, 29, 22, 29,…\n",
      "$ smoker                 \u001b[3m\u001b[90m<dbl>\u001b[39m\u001b[23m 1, 0, 1, 0, 1, 1, 1, 0, 1, 1, 1, 1, 0, 1, 0, 1,…\n",
      "$ stroke                 \u001b[3m\u001b[90m<dbl>\u001b[39m\u001b[23m 1, 0, 0, 0, 0, 0, 1, 0, 1, 0, 0, 0, 0, 0, 0, 0,…\n",
      "$ heart_diseaseor_attack \u001b[3m\u001b[90m<dbl>\u001b[39m\u001b[23m 0, 0, 0, 0, 0, 0, 0, 0, 1, 0, 0, 0, 0, 0, 0, 0,…\n",
      "$ phys_activity          \u001b[3m\u001b[90m<dbl>\u001b[39m\u001b[23m 0, 1, 1, 1, 0, 0, 0, 0, 0, 1, 1, 1, 1, 1, 0, 1,…\n",
      "$ fruits                 \u001b[3m\u001b[90m<dbl>\u001b[39m\u001b[23m 0, 0, 1, 1, 1, 0, 0, 1, 0, 0, 1, 0, 1, 0, 1, 1,…\n",
      "$ veggies                \u001b[3m\u001b[90m<dbl>\u001b[39m\u001b[23m 1, 0, 1, 1, 1, 1, 1, 1, 1, 1, 1, 1, 1, 1, 1, 0,…\n",
      "$ hvy_alcohol_consump    \u001b[3m\u001b[90m<dbl>\u001b[39m\u001b[23m 0, 0, 0, 0, 0, 0, 0, 0, 0, 0, 0, 0, 0, 0, 0, 0,…\n",
      "$ any_healthcare         \u001b[3m\u001b[90m<dbl>\u001b[39m\u001b[23m 1, 1, 1, 1, 0, 1, 1, 1, 1, 1, 1, 1, 1, 1, 1, 1,…\n",
      "$ no_docbc_cost          \u001b[3m\u001b[90m<dbl>\u001b[39m\u001b[23m 0, 0, 0, 0, 1, 0, 0, 0, 1, 0, 0, 0, 0, 0, 0, 1,…\n",
      "$ gen_hlth               \u001b[3m\u001b[90m<dbl>\u001b[39m\u001b[23m 5, 2, 2, 1, 5, 3, 3, 1, 4, 3, 2, 2, 3, 2, 1, 4,…\n",
      "$ ment_hlth              \u001b[3m\u001b[90m<dbl>\u001b[39m\u001b[23m 30, 0, 0, 25, 2, 0, 0, 0, 0, 0, 0, 0, 0, 0, 0, …\n",
      "$ phys_hlth              \u001b[3m\u001b[90m<dbl>\u001b[39m\u001b[23m 22, 0, 0, 0, 0, 0, 10, 0, 14, 0, 0, 0, 0, 0, 0,…\n",
      "$ diff_walk              \u001b[3m\u001b[90m<dbl>\u001b[39m\u001b[23m 1, 0, 0, 0, 1, 1, 1, 0, 1, 0, 0, 0, 0, 0, 0, 1,…\n",
      "$ sex                    \u001b[3m\u001b[90m<dbl>\u001b[39m\u001b[23m 0, 1, 1, 0, 0, 0, 0, 0, 1, 1, 0, 1, 0, 0, 1, 0,…\n",
      "$ age                    \u001b[3m\u001b[90m<dbl>\u001b[39m\u001b[23m 9, 6, 7, 9, 8, 4, 12, 12, 10, 9, 13, 7, 10, 10,…\n",
      "$ education              \u001b[3m\u001b[90m<dbl>\u001b[39m\u001b[23m 4, 6, 5, 4, 4, 4, 4, 6, 5, 6, 6, 6, 6, 4, 6, 5,…\n",
      "$ income                 \u001b[3m\u001b[90m<dbl>\u001b[39m\u001b[23m 1, 8, 8, 6, 6, 2, 3, 7, 6, 8, 7, 8, 8, 4, 8, 8,…\n"
     ]
    }
   ],
   "source": [
    "set.seed(1212)\n",
    "diabetes_data <- data |> \n",
    "clean_names() |> \n",
    "mutate(diabetes_012 = as_factor(diabetes_012)) |> \n",
    "slice_sample(n=10000) |> \n",
    "glimpse()"
   ]
  },
  {
   "cell_type": "markdown",
   "id": "ed756c21-dd77-422e-b4f5-4618b50b519d",
   "metadata": {},
   "source": [
    "I will use `age`, `phys_activity`, `bmi`, `high_chol` as my predictors"
   ]
  },
  {
   "cell_type": "markdown",
   "id": "c98d742a-031e-4b1f-91ff-ef9f5f58c907",
   "metadata": {},
   "source": [
    "Here we will do the inital split where we split the data into the training set and testing set"
   ]
  },
  {
   "cell_type": "code",
   "execution_count": 107,
   "id": "89efbc3e-8bf5-4585-93c2-4dca3a0bfdc1",
   "metadata": {},
   "outputs": [],
   "source": [
    "diabetes_split <- initial_split(diabetes_data, prop = 0.75, strata = diabetes_012)\n",
    "diabetes_train <- training(diabetes_split)\n",
    "diabetes_test <- testing(diabetes_split)"
   ]
  },
  {
   "cell_type": "markdown",
   "id": "9eab8412-0845-4400-b389-30afe9259f8d",
   "metadata": {},
   "source": [
    "First we will have to find the value of $K$. Here we will make the recipe and specification for the model"
   ]
  },
  {
   "cell_type": "code",
   "execution_count": 108,
   "id": "2a11f5f8-6f51-4a22-ad3a-b10dd40a9cae",
   "metadata": {},
   "outputs": [],
   "source": [
    "diabetes_recipe <- recipe(diabetes_012 ~ age + phys_activity + bmi + high_chol,\n",
    "                        data = diabetes_train) |>\n",
    "  step_scale(all_predictors()) |>\n",
    "  step_center(all_predictors())"
   ]
  },
  {
   "cell_type": "code",
   "execution_count": 109,
   "id": "c5b1f38b-5b27-4391-a369-ef7f243e7d6b",
   "metadata": {},
   "outputs": [],
   "source": [
    "knn_spec <- nearest_neighbor(weight_func = \"rectangular\",\n",
    "                             neighbors = tune()) |>\n",
    "  set_engine(\"kknn\") |>\n",
    "  set_mode(\"classification\")"
   ]
  },
  {
   "cell_type": "markdown",
   "id": "e9fdc791-468e-4c8f-8e27-c1824c822f76",
   "metadata": {},
   "source": [
    "We will be using 5 fold cross validation"
   ]
  },
  {
   "cell_type": "code",
   "execution_count": 110,
   "id": "60306454-ea2f-4399-a02d-e587d07c03ec",
   "metadata": {},
   "outputs": [],
   "source": [
    "diabetes_vfold <- vfold_cv(diabetes_train, v = 5, strata = diabetes_012)"
   ]
  },
  {
   "cell_type": "markdown",
   "id": "4f0ed814-76b3-4fa2-8612-483c7ffae29a",
   "metadata": {},
   "source": [
    "We will make a tibble of $K$ values from 1 to 100 increasing by 5, then we will put everything into a workflow."
   ]
  },
  {
   "cell_type": "code",
   "execution_count": 111,
   "id": "1a1188b9-0ad6-49ed-9d5e-0fa89864bbdb",
   "metadata": {},
   "outputs": [],
   "source": [
    "k_vals <- tibble(neighbors = seq(from = 1, to = 100, by = 5))\n",
    "\n",
    "knn_results <- workflow() |>\n",
    "  add_recipe(diabetes_recipe) |>\n",
    "  add_model(knn_spec) |>\n",
    "  tune_grid(resamples = diabetes_vfold, grid = k_vals) |>\n",
    "  collect_metrics()\n",
    "\n",
    "accuracies <- knn_results |>\n",
    "  filter(.metric == \"accuracy\")\n"
   ]
  },
  {
   "cell_type": "markdown",
   "id": "33b2e2b0-7a89-4d03-99f7-587b6c2b9b65",
   "metadata": {},
   "source": [
    "We can make a plot of a accuracy vs the k values and pick the largest k value that has the highest\n",
    "value for $K$."
   ]
  },
  {
   "cell_type": "code",
   "execution_count": 112,
   "id": "5b5ab5ec-2407-445e-8fce-8900589f2cc7",
   "metadata": {},
   "outputs": [
    {
     "data": {
      "image/png": "[encoded data removed]",
      "text/plain": [
       "plot without title"
      ]
     },
     "metadata": {
      "image/png": {
       "height": 420,
       "width": 420
      }
     },
     "output_type": "display_data"
    }
   ],
   "source": [
    "accuracy_vs_k <- ggplot(accuracies, aes(x = neighbors, y = mean)) +\n",
    "  geom_point() +\n",
    "  geom_line() +\n",
    "  labs(x = \"Neighbors\", y = \"Accuracy Estimate\") +\n",
    "  theme(text = element_text(size = 12))\n",
    "\n",
    "accuracy_vs_k"
   ]
  },
  {
   "cell_type": "code",
   "execution_count": 113,
   "id": "91fdd0fa-6d90-49f6-8f61-119a826875aa",
   "metadata": {},
   "outputs": [
    {
     "data": {
      "text/html": [
       "86"
      ],
      "text/latex": [
       "86"
      ],
      "text/markdown": [
       "86"
      ],
      "text/plain": [
       "[1] 86"
      ]
     },
     "metadata": {},
     "output_type": "display_data"
    }
   ],
   "source": [
    "best_k <- accuracies |>\n",
    "        arrange(desc(mean)) |>\n",
    "        head(1) |>\n",
    "        pull(neighbors)\n",
    "best_k"
   ]
  },
  {
   "cell_type": "markdown",
   "id": "d4247eee-3cd4-47c6-8e26-96ff04221fd1",
   "metadata": {},
   "source": [
    "Now that we have a value for $K$, we can make the recipe, specification, and workflow\n",
    "with new $K$ value in mind."
   ]
  },
  {
   "cell_type": "code",
   "execution_count": 114,
   "id": "f40b18f5-0a64-45fa-a6d8-bad105a0af5a",
   "metadata": {},
   "outputs": [
    {
     "data": {
      "text/plain": [
       "══ Workflow [trained] ══════════════════════════════════════════════════════════\n",
       "\u001b[3mPreprocessor:\u001b[23m Recipe\n",
       "\u001b[3mModel:\u001b[23m nearest_neighbor()\n",
       "\n",
       "── Preprocessor ────────────────────────────────────────────────────────────────\n",
       "2 Recipe Steps\n",
       "\n",
       "• step_scale()\n",
       "• step_center()\n",
       "\n",
       "── Model ───────────────────────────────────────────────────────────────────────\n",
       "\n",
       "Call:\n",
       "kknn::train.kknn(formula = ..y ~ ., data = data, ks = min_rows(86,     data, 5), kernel = ~\"rectangular\")\n",
       "\n",
       "Type of response variable: nominal\n",
       "Minimal misclassification: 0.1609548\n",
       "Best kernel: rectangular\n",
       "Best k: 86"
      ]
     },
     "metadata": {},
     "output_type": "display_data"
    }
   ],
   "source": [
    "knn_spec <- nearest_neighbor(weight_func = \"rectangular\", neighbors = best_k) |>\n",
    "  set_engine(\"kknn\") |>\n",
    "  set_mode(\"classification\")\n",
    "\n",
    "knn_fit <- workflow() |>\n",
    "  add_recipe(diabetes_recipe) |>\n",
    "  add_model(knn_spec) |>\n",
    "  fit(data = diabetes_train)\n",
    "\n",
    "knn_fit"
   ]
  },
  {
   "cell_type": "markdown",
   "id": "e013902b-8b96-4c1d-8fd4-1f257c04ab7b",
   "metadata": {},
   "source": [
    "Finally, we can predict the model. "
   ]
  },
  {
   "cell_type": "code",
   "execution_count": 115,
   "id": "9e90bf9a-01d5-4bf5-baae-cbb8f124586b",
   "metadata": {},
   "outputs": [
    {
     "data": {
      "text/html": [
       "<table class=\"dataframe\">\n",
       "<caption>A tibble: 1 × 3</caption>\n",
       "<thead>\n",
       "\t<tr><th scope=col>.metric</th><th scope=col>.estimator</th><th scope=col>.estimate</th></tr>\n",
       "\t<tr><th scope=col>&lt;chr&gt;</th><th scope=col>&lt;chr&gt;</th><th scope=col>&lt;dbl&gt;</th></tr>\n",
       "</thead>\n",
       "<tbody>\n",
       "\t<tr><td>accuracy</td><td>multiclass</td><td>0.8416633</td></tr>\n",
       "</tbody>\n",
       "</table>\n"
      ],
      "text/latex": [
       "A tibble: 1 × 3\n",
       "\\begin{tabular}{lll}\n",
       " .metric & .estimator & .estimate\\\\\n",
       " <chr> & <chr> & <dbl>\\\\\n",
       "\\hline\n",
       "\t accuracy & multiclass & 0.8416633\\\\\n",
       "\\end{tabular}\n"
      ],
      "text/markdown": [
       "\n",
       "A tibble: 1 × 3\n",
       "\n",
       "| .metric &lt;chr&gt; | .estimator &lt;chr&gt; | .estimate &lt;dbl&gt; |\n",
       "|---|---|---|\n",
       "| accuracy | multiclass | 0.8416633 |\n",
       "\n"
      ],
      "text/plain": [
       "  .metric  .estimator .estimate\n",
       "1 accuracy multiclass 0.8416633"
      ]
     },
     "metadata": {},
     "output_type": "display_data"
    }
   ],
   "source": [
    "diabetes_test_predictions <- predict(knn_fit, diabetes_test) |>\n",
    "  bind_cols(diabetes_test)\n",
    "\n",
    "diabetes_test_predictions |>\n",
    "  metrics(truth = diabetes_012, estimate = .pred_class) |>\n",
    "  filter(.metric == \"accuracy\")"
   ]
  },
  {
   "cell_type": "code",
   "execution_count": 116,
   "id": "f92d8db5-6e42-43e3-834d-481c16312350",
   "metadata": {},
   "outputs": [
    {
     "data": {
      "text/html": [
       "<style>\n",
       ".list-inline {list-style: none; margin:0; padding: 0}\n",
       ".list-inline>li {display: inline-block}\n",
       ".list-inline>li:not(:last-child)::after {content: \"\\00b7\"; padding: 0 .5ex}\n",
       "</style>\n",
       "<ol class=list-inline><li>'0'</li><li>'1'</li><li>'2'</li></ol>\n"
      ],
      "text/latex": [
       "\\begin{enumerate*}\n",
       "\\item '0'\n",
       "\\item '1'\n",
       "\\item '2'\n",
       "\\end{enumerate*}\n"
      ],
      "text/markdown": [
       "1. '0'\n",
       "2. '1'\n",
       "3. '2'\n",
       "\n",
       "\n"
      ],
      "text/plain": [
       "[1] \"0\" \"1\" \"2\""
      ]
     },
     "metadata": {},
     "output_type": "display_data"
    }
   ],
   "source": [
    "diabetes_test_predictions |> pull(diabetes_012) |> levels()"
   ]
  },
  {
   "cell_type": "code",
   "execution_count": 117,
   "id": "80aa6c12-f70f-4d67-837d-a104be5c5d14",
   "metadata": {},
   "outputs": [
    {
     "name": "stderr",
     "output_type": "stream",
     "text": [
      "Warning message:\n",
      "“\u001b[1m\u001b[22mWhile computing multiclass `precision()`, some levels had no predicted events\n",
      "(i.e. `true_positive + false_positive = 0`).\n",
      "Precision is undefined in this case, and those levels will be removed from the\n",
      "averaged result.\n",
      "Note that the following number of true events actually occurred for each\n",
      "problematic event level:\n",
      "'1': 33”\n"
     ]
    },
    {
     "data": {
      "text/html": [
       "<table class=\"dataframe\">\n",
       "<caption>A tibble: 1 × 3</caption>\n",
       "<thead>\n",
       "\t<tr><th scope=col>.metric</th><th scope=col>.estimator</th><th scope=col>.estimate</th></tr>\n",
       "\t<tr><th scope=col>&lt;chr&gt;</th><th scope=col>&lt;chr&gt;</th><th scope=col>&lt;dbl&gt;</th></tr>\n",
       "</thead>\n",
       "<tbody>\n",
       "\t<tr><td>precision</td><td>macro</td><td>0.6733266</td></tr>\n",
       "</tbody>\n",
       "</table>\n"
      ],
      "text/latex": [
       "A tibble: 1 × 3\n",
       "\\begin{tabular}{lll}\n",
       " .metric & .estimator & .estimate\\\\\n",
       " <chr> & <chr> & <dbl>\\\\\n",
       "\\hline\n",
       "\t precision & macro & 0.6733266\\\\\n",
       "\\end{tabular}\n"
      ],
      "text/markdown": [
       "\n",
       "A tibble: 1 × 3\n",
       "\n",
       "| .metric &lt;chr&gt; | .estimator &lt;chr&gt; | .estimate &lt;dbl&gt; |\n",
       "|---|---|---|\n",
       "| precision | macro | 0.6733266 |\n",
       "\n"
      ],
      "text/plain": [
       "  .metric   .estimator .estimate\n",
       "1 precision macro      0.6733266"
      ]
     },
     "metadata": {},
     "output_type": "display_data"
    }
   ],
   "source": [
    "diabetes_test_predictions |>\n",
    "    precision(truth = diabetes_012, estimate = .pred_class, event_level=\"third\")"
   ]
  },
  {
   "cell_type": "code",
   "execution_count": 118,
   "id": "7e7a5baa-f8db-4261-a17a-e9c319d77c43",
   "metadata": {},
   "outputs": [
    {
     "data": {
      "text/html": [
       "<table class=\"dataframe\">\n",
       "<caption>A tibble: 1 × 3</caption>\n",
       "<thead>\n",
       "\t<tr><th scope=col>.metric</th><th scope=col>.estimator</th><th scope=col>.estimate</th></tr>\n",
       "\t<tr><th scope=col>&lt;chr&gt;</th><th scope=col>&lt;chr&gt;</th><th scope=col>&lt;dbl&gt;</th></tr>\n",
       "</thead>\n",
       "<tbody>\n",
       "\t<tr><td>recall</td><td>macro</td><td>0.3471236</td></tr>\n",
       "</tbody>\n",
       "</table>\n"
      ],
      "text/latex": [
       "A tibble: 1 × 3\n",
       "\\begin{tabular}{lll}\n",
       " .metric & .estimator & .estimate\\\\\n",
       " <chr> & <chr> & <dbl>\\\\\n",
       "\\hline\n",
       "\t recall & macro & 0.3471236\\\\\n",
       "\\end{tabular}\n"
      ],
      "text/markdown": [
       "\n",
       "A tibble: 1 × 3\n",
       "\n",
       "| .metric &lt;chr&gt; | .estimator &lt;chr&gt; | .estimate &lt;dbl&gt; |\n",
       "|---|---|---|\n",
       "| recall | macro | 0.3471236 |\n",
       "\n"
      ],
      "text/plain": [
       "  .metric .estimator .estimate\n",
       "1 recall  macro      0.3471236"
      ]
     },
     "metadata": {},
     "output_type": "display_data"
    }
   ],
   "source": [
    "diabetes_test_predictions |>\n",
    "    recall(truth = diabetes_012, estimate = .pred_class, event_level=\"third\")"
   ]
  },
  {
   "cell_type": "markdown",
   "id": "5ca27e08-1d2d-4bc7-b321-19dbdcd662f7",
   "metadata": {},
   "source": [
    "Here it can be seen that the the model has an accuracy of 84%. With more folds and a deeper insepction of the predictors this moddel can be approved with higher accuracy."
   ]
  }
 ],
 "metadata": {
  "kernelspec": {
   "display_name": "R",
   "language": "R",
   "name": "ir"
  },
  "language_info": {
   "codemirror_mode": "r",
   "file_extension": ".r",
   "mimetype": "text/x-r-source",
   "name": "R",
   "pygments_lexer": "r",
   "version": "4.4.3"
  }
 },
 "nbformat": 4,
 "nbformat_minor": 5
}
